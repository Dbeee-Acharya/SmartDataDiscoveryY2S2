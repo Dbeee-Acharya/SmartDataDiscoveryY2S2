{
 "cells": [
  {
   "cell_type": "markdown",
   "id": "f1373f6e",
   "metadata": {},
   "source": [
    "## Week 3 Tutorial"
   ]
  },
  {
   "cell_type": "code",
   "execution_count": 1,
   "id": "f02f8a32",
   "metadata": {},
   "outputs": [
    {
     "data": {
      "text/plain": [
       "('Tested', 4, 5, 6)"
      ]
     },
     "execution_count": 1,
     "metadata": {},
     "output_type": "execute_result"
    }
   ],
   "source": [
    "t1 = ('Tested', 4, 5, 6)\n",
    "t1"
   ]
  },
  {
   "cell_type": "code",
   "execution_count": 2,
   "id": "0fab145e",
   "metadata": {},
   "outputs": [
    {
     "name": "stdout",
     "output_type": "stream",
     "text": [
      "6\n"
     ]
    }
   ],
   "source": [
    "print(t1[3])"
   ]
  },
  {
   "cell_type": "code",
   "execution_count": 3,
   "id": "a7d85fc0",
   "metadata": {},
   "outputs": [
    {
     "ename": "NameError",
     "evalue": "name 'lsit' is not defined",
     "output_type": "error",
     "traceback": [
      "\u001b[1;31m---------------------------------------------------------------------------\u001b[0m",
      "\u001b[1;31mNameError\u001b[0m                                 Traceback (most recent call last)",
      "Cell \u001b[1;32mIn[3], line 1\u001b[0m\n\u001b[1;32m----> 1\u001b[0m t1 \u001b[38;5;241m=\u001b[39m lsit(t1)\n",
      "\u001b[1;31mNameError\u001b[0m: name 'lsit' is not defined"
     ]
    }
   ],
   "source": [
    "t1 = lsit(t1)"
   ]
  },
  {
   "cell_type": "code",
   "execution_count": 4,
   "id": "8d4d4404",
   "metadata": {},
   "outputs": [],
   "source": [
    "t1 = list(t1)"
   ]
  },
  {
   "cell_type": "code",
   "execution_count": 5,
   "id": "b339031d",
   "metadata": {},
   "outputs": [
    {
     "data": {
      "text/plain": [
       "['Tested', 4, 5, 6]"
      ]
     },
     "execution_count": 5,
     "metadata": {},
     "output_type": "execute_result"
    }
   ],
   "source": [
    "t1\n"
   ]
  },
  {
   "cell_type": "code",
   "execution_count": 6,
   "id": "5bbb8901",
   "metadata": {},
   "outputs": [],
   "source": [
    "t1 = tuple(t1)"
   ]
  },
  {
   "cell_type": "code",
   "execution_count": 7,
   "id": "cf1f4b5a",
   "metadata": {},
   "outputs": [
    {
     "data": {
      "text/plain": [
       "('Tested', 4, 5, 6)"
      ]
     },
     "execution_count": 7,
     "metadata": {},
     "output_type": "execute_result"
    }
   ],
   "source": [
    "t1"
   ]
  },
  {
   "cell_type": "code",
   "execution_count": 8,
   "id": "2b0c1f95",
   "metadata": {},
   "outputs": [],
   "source": [
    "t1 = list(t1)\n",
    "t1 = [1,2,3,4,5,6]\n",
    "t1 = tuple(t1)"
   ]
  },
  {
   "cell_type": "code",
   "execution_count": 9,
   "id": "f541cc10",
   "metadata": {},
   "outputs": [],
   "source": [
    "def addTwoNumbers():\n",
    "    a = 22\n",
    "    b = 33\n",
    "    return a, b, a+b"
   ]
  },
  {
   "cell_type": "code",
   "execution_count": 10,
   "id": "dbfe4df3",
   "metadata": {},
   "outputs": [
    {
     "name": "stdout",
     "output_type": "stream",
     "text": [
      "(22, 33, 55)\n"
     ]
    }
   ],
   "source": [
    "res = addTwoNumbers()\n",
    "print(res)"
   ]
  },
  {
   "cell_type": "code",
   "execution_count": 11,
   "id": "49dde098",
   "metadata": {},
   "outputs": [
    {
     "name": "stdout",
     "output_type": "stream",
     "text": [
      "(22, 33, 55)\n",
      "22 33 55\n"
     ]
    }
   ],
   "source": [
    "n1, n2, n3 = res = addTwoNumbers()\n",
    "print(res)\n",
    "print(n1, n2, n3)"
   ]
  },
  {
   "cell_type": "code",
   "execution_count": 13,
   "id": "e5f84457",
   "metadata": {},
   "outputs": [
    {
     "data": {
      "text/plain": [
       "(1, 2, 3, 4, 5, 6)"
      ]
     },
     "execution_count": 13,
     "metadata": {},
     "output_type": "execute_result"
    }
   ],
   "source": [
    "t1\n"
   ]
  },
  {
   "cell_type": "code",
   "execution_count": 14,
   "id": "80e2b40c",
   "metadata": {},
   "outputs": [
    {
     "name": "stdout",
     "output_type": "stream",
     "text": [
      "1 <class 'int'>\n",
      "2 <class 'int'>\n",
      "3 <class 'int'>\n",
      "4 <class 'int'>\n",
      "5 <class 'int'>\n",
      "6 <class 'int'>\n"
     ]
    }
   ],
   "source": [
    "for i in t1:\n",
    "    print(i, type(i))"
   ]
  },
  {
   "cell_type": "code",
   "execution_count": 16,
   "id": "c10b5bd1",
   "metadata": {},
   "outputs": [
    {
     "name": "stdout",
     "output_type": "stream",
     "text": [
      "enter name: zwiii\n",
      "wow zwiii\n"
     ]
    }
   ],
   "source": [
    "name = input(\"enter name: \").lower()\n",
    "\n",
    "if name == \"zwiii\":\n",
    "    print(\"wow zwiii\")\n",
    "else:\n",
    "    print(\"not woww not zwiii\")"
   ]
  },
  {
   "cell_type": "code",
   "execution_count": 17,
   "id": "63a30e84",
   "metadata": {},
   "outputs": [
    {
     "name": "stdout",
     "output_type": "stream",
     "text": [
      "{} <class 'dict'>\n"
     ]
    }
   ],
   "source": [
    "s = {}\n",
    "print(s, type(s))"
   ]
  },
  {
   "cell_type": "code",
   "execution_count": 18,
   "id": "1cc3753e",
   "metadata": {},
   "outputs": [
    {
     "name": "stdout",
     "output_type": "stream",
     "text": [
      "set() <class 'set'>\n"
     ]
    }
   ],
   "source": [
    "s = set()\n",
    "print(s, type(s))"
   ]
  },
  {
   "cell_type": "code",
   "execution_count": 19,
   "id": "6ede78d2",
   "metadata": {},
   "outputs": [
    {
     "data": {
      "text/plain": [
       "({1, 2, 3, 4, 5}, set)"
      ]
     },
     "execution_count": 19,
     "metadata": {},
     "output_type": "execute_result"
    }
   ],
   "source": [
    "s = {2,3,4,5,1}\n",
    "s, type(s)"
   ]
  },
  {
   "cell_type": "code",
   "execution_count": 20,
   "id": "0cf6e950",
   "metadata": {},
   "outputs": [
    {
     "name": "stdout",
     "output_type": "stream",
     "text": [
      "{1, 2, 3, 4, 5}\n"
     ]
    }
   ],
   "source": [
    "s = {1,1,1,3,3,3,2,4,5,5} # order follow hudaina ani duplicate value mandaina\n",
    "print(s)"
   ]
  },
  {
   "cell_type": "code",
   "execution_count": 21,
   "id": "7332b2e9",
   "metadata": {},
   "outputs": [
    {
     "data": {
      "text/plain": [
       "{False, 1, 2, 3, 4, 5, 6, 7}"
      ]
     },
     "execution_count": 21,
     "metadata": {},
     "output_type": "execute_result"
    }
   ],
   "source": [
    "s  = {1,2,3,4,5,7,6,False}\n",
    "s"
   ]
  },
  {
   "cell_type": "code",
   "execution_count": 23,
   "id": "cc1b338f",
   "metadata": {},
   "outputs": [
    {
     "data": {
      "text/plain": [
       "{False, 1, 2, 3, 4, 5}"
      ]
     },
     "execution_count": 23,
     "metadata": {},
     "output_type": "execute_result"
    }
   ],
   "source": [
    "s = {2,1,3,4,5,True,False} # True ayena kina bhanne true = 1 and 1 ra 1 dekhera only 1 print garyo. \n",
    "s\n"
   ]
  },
  {
   "cell_type": "code",
   "execution_count": 24,
   "id": "f32d9da0",
   "metadata": {},
   "outputs": [
    {
     "data": {
      "text/plain": [
       "{0, 1, 2, 3, 4, 5}"
      ]
     },
     "execution_count": 24,
     "metadata": {},
     "output_type": "execute_result"
    }
   ],
   "source": [
    "s = {0,1,2,3,4,5,True,False} # aba false pani audaina because 0 is there\n",
    "s"
   ]
  },
  {
   "cell_type": "code",
   "execution_count": 25,
   "id": "a43a3a80",
   "metadata": {},
   "outputs": [],
   "source": [
    "a = {1,2,3,4,5}\n",
    "b = {1,2,3,7,9}"
   ]
  },
  {
   "cell_type": "code",
   "execution_count": 26,
   "id": "78d0c2d0",
   "metadata": {},
   "outputs": [
    {
     "data": {
      "text/plain": [
       "{1, 2, 3, 4, 5, 7, 9}"
      ]
     },
     "execution_count": 26,
     "metadata": {},
     "output_type": "execute_result"
    }
   ],
   "source": [
    "a.union(b)"
   ]
  },
  {
   "cell_type": "code",
   "execution_count": 27,
   "id": "41873048",
   "metadata": {},
   "outputs": [
    {
     "data": {
      "text/plain": [
       "{1, 2, 3}"
      ]
     },
     "execution_count": 27,
     "metadata": {},
     "output_type": "execute_result"
    }
   ],
   "source": [
    "a.intersection(b)"
   ]
  },
  {
   "cell_type": "code",
   "execution_count": 28,
   "id": "3b55b87c",
   "metadata": {},
   "outputs": [
    {
     "data": {
      "text/plain": [
       "{4, 5}"
      ]
     },
     "execution_count": 28,
     "metadata": {},
     "output_type": "execute_result"
    }
   ],
   "source": [
    "a.difference(b)"
   ]
  },
  {
   "cell_type": "code",
   "execution_count": 29,
   "id": "6974ff4b",
   "metadata": {},
   "outputs": [
    {
     "data": {
      "text/plain": [
       "{4, 5}"
      ]
     },
     "execution_count": 29,
     "metadata": {},
     "output_type": "execute_result"
    }
   ],
   "source": [
    "a - b"
   ]
  },
  {
   "cell_type": "code",
   "execution_count": 30,
   "id": "1260b194",
   "metadata": {},
   "outputs": [
    {
     "data": {
      "text/plain": [
       "({1, 2, 3, 4, 5}, {1, 2, 3, 7, 9})"
      ]
     },
     "execution_count": 30,
     "metadata": {},
     "output_type": "execute_result"
    }
   ],
   "source": [
    "a,b\n"
   ]
  },
  {
   "cell_type": "code",
   "execution_count": 31,
   "id": "37332907",
   "metadata": {},
   "outputs": [
    {
     "data": {
      "text/plain": [
       "{7, 9}"
      ]
     },
     "execution_count": 31,
     "metadata": {},
     "output_type": "execute_result"
    }
   ],
   "source": [
    "b - a\n"
   ]
  },
  {
   "cell_type": "code",
   "execution_count": 34,
   "id": "e23db97a",
   "metadata": {},
   "outputs": [],
   "source": [
    "a.intersection_update(b) # update a with the intersection le return gareko value"
   ]
  },
  {
   "cell_type": "code",
   "execution_count": 33,
   "id": "686422e8",
   "metadata": {},
   "outputs": [
    {
     "name": "stdout",
     "output_type": "stream",
     "text": [
      "{1, 2, 3}\n"
     ]
    }
   ],
   "source": [
    "print(a)"
   ]
  },
  {
   "cell_type": "code",
   "execution_count": 35,
   "id": "a3774c46",
   "metadata": {},
   "outputs": [],
   "source": [
    "a = {1,2,3,4,5}"
   ]
  },
  {
   "cell_type": "code",
   "execution_count": 36,
   "id": "6be54031",
   "metadata": {},
   "outputs": [
    {
     "name": "stdout",
     "output_type": "stream",
     "text": [
      "{1, 2, 3, 4, 5} {1, 2, 3, 7, 9}\n"
     ]
    }
   ],
   "source": [
    "print(a,b)"
   ]
  },
  {
   "cell_type": "code",
   "execution_count": 38,
   "id": "b66534c8",
   "metadata": {},
   "outputs": [
    {
     "data": {
      "text/plain": [
       "{4, 5, 7, 9}"
      ]
     },
     "execution_count": 38,
     "metadata": {},
     "output_type": "execute_result"
    }
   ],
   "source": [
    "a.symmetric_difference(b) #repeat nabhako value ig"
   ]
  },
  {
   "cell_type": "markdown",
   "id": "4c5f3977",
   "metadata": {},
   "source": [
    "## Dictionary"
   ]
  },
  {
   "cell_type": "code",
   "execution_count": 39,
   "id": "af1e330d",
   "metadata": {},
   "outputs": [],
   "source": [
    "student = {'name':'ram', 'age':22, 'mark': 88}"
   ]
  },
  {
   "cell_type": "code",
   "execution_count": 40,
   "id": "65773d60",
   "metadata": {},
   "outputs": [
    {
     "data": {
      "text/plain": [
       "{'name': 'ram', 'age': 22, 'mark': 88}"
      ]
     },
     "execution_count": 40,
     "metadata": {},
     "output_type": "execute_result"
    }
   ],
   "source": [
    "student"
   ]
  },
  {
   "cell_type": "code",
   "execution_count": 41,
   "id": "43c4a9cd",
   "metadata": {},
   "outputs": [],
   "source": [
    "student = {\n",
    "    'name':'Zwiii',\n",
    "    'age': 19,\n",
    "    'mark': 88\n",
    "}"
   ]
  },
  {
   "cell_type": "code",
   "execution_count": 42,
   "id": "d6f936ca",
   "metadata": {},
   "outputs": [
    {
     "data": {
      "text/plain": [
       "{'name': 'Zwiii', 'age': 19, 'mark': 88}"
      ]
     },
     "execution_count": 42,
     "metadata": {},
     "output_type": "execute_result"
    }
   ],
   "source": [
    "student"
   ]
  },
  {
   "cell_type": "code",
   "execution_count": 43,
   "id": "227bc10c",
   "metadata": {},
   "outputs": [
    {
     "data": {
      "text/plain": [
       "'Zwiii'"
      ]
     },
     "execution_count": 43,
     "metadata": {},
     "output_type": "execute_result"
    }
   ],
   "source": [
    "student['name']"
   ]
  },
  {
   "cell_type": "code",
   "execution_count": 44,
   "id": "c8c2f919",
   "metadata": {},
   "outputs": [
    {
     "data": {
      "text/plain": [
       "<function dict.keys>"
      ]
     },
     "execution_count": 44,
     "metadata": {},
     "output_type": "execute_result"
    }
   ],
   "source": [
    "student.keys"
   ]
  },
  {
   "cell_type": "code",
   "execution_count": 45,
   "id": "0752f08b",
   "metadata": {},
   "outputs": [
    {
     "data": {
      "text/plain": [
       "dict_keys(['name', 'age', 'mark'])"
      ]
     },
     "execution_count": 45,
     "metadata": {},
     "output_type": "execute_result"
    }
   ],
   "source": [
    "student.keys()"
   ]
  },
  {
   "cell_type": "code",
   "execution_count": 46,
   "id": "2c30ebca",
   "metadata": {},
   "outputs": [
    {
     "data": {
      "text/plain": [
       "dict_values(['Zwiii', 19, 88])"
      ]
     },
     "execution_count": 46,
     "metadata": {},
     "output_type": "execute_result"
    }
   ],
   "source": [
    "student.values()\n"
   ]
  },
  {
   "cell_type": "code",
   "execution_count": 47,
   "id": "6307fd5d",
   "metadata": {},
   "outputs": [
    {
     "ename": "KeyError",
     "evalue": "'address'",
     "output_type": "error",
     "traceback": [
      "\u001b[1;31m---------------------------------------------------------------------------\u001b[0m",
      "\u001b[1;31mKeyError\u001b[0m                                  Traceback (most recent call last)",
      "Cell \u001b[1;32mIn[47], line 1\u001b[0m\n\u001b[1;32m----> 1\u001b[0m student[\u001b[38;5;124m'\u001b[39m\u001b[38;5;124maddress\u001b[39m\u001b[38;5;124m'\u001b[39m]\n",
      "\u001b[1;31mKeyError\u001b[0m: 'address'"
     ]
    }
   ],
   "source": [
    "student['address']"
   ]
  },
  {
   "cell_type": "code",
   "execution_count": 48,
   "id": "ec7b540b",
   "metadata": {},
   "outputs": [],
   "source": [
    "student['address'] = 'baneshwor -> tokha'"
   ]
  },
  {
   "cell_type": "code",
   "execution_count": 49,
   "id": "9a0903c9",
   "metadata": {},
   "outputs": [
    {
     "data": {
      "text/plain": [
       "{'name': 'Zwiii', 'age': 19, 'mark': 88, 'address': 'baneshwor -> tokha'}"
      ]
     },
     "execution_count": 49,
     "metadata": {},
     "output_type": "execute_result"
    }
   ],
   "source": [
    "student"
   ]
  },
  {
   "cell_type": "code",
   "execution_count": 50,
   "id": "903199eb",
   "metadata": {},
   "outputs": [
    {
     "data": {
      "text/plain": [
       "dict_items([('name', 'Zwiii'), ('age', 19), ('mark', 88), ('address', 'baneshwor -> tokha')])"
      ]
     },
     "execution_count": 50,
     "metadata": {},
     "output_type": "execute_result"
    }
   ],
   "source": [
    "student.items()"
   ]
  },
  {
   "cell_type": "code",
   "execution_count": 51,
   "id": "57446317",
   "metadata": {},
   "outputs": [
    {
     "name": "stdout",
     "output_type": "stream",
     "text": [
      "name\n",
      "age\n",
      "mark\n",
      "address\n"
     ]
    }
   ],
   "source": [
    "for i in student.keys():\n",
    "    print(i)"
   ]
  },
  {
   "cell_type": "code",
   "execution_count": 52,
   "id": "33dc13a1",
   "metadata": {},
   "outputs": [
    {
     "name": "stdout",
     "output_type": "stream",
     "text": [
      "Zwiii\n",
      "19\n",
      "88\n",
      "baneshwor -> tokha\n"
     ]
    }
   ],
   "source": [
    "for i in student.values():\n",
    "    print(i)"
   ]
  },
  {
   "cell_type": "code",
   "execution_count": 53,
   "id": "f3be5efc",
   "metadata": {},
   "outputs": [
    {
     "name": "stdout",
     "output_type": "stream",
     "text": [
      "Zwiii <class 'str'>\n",
      "19 <class 'int'>\n",
      "88 <class 'int'>\n",
      "baneshwor -> tokha <class 'str'>\n"
     ]
    }
   ],
   "source": [
    "for i in student.values():\n",
    "    print(i, type(i))"
   ]
  },
  {
   "cell_type": "code",
   "execution_count": 54,
   "id": "9883031e",
   "metadata": {},
   "outputs": [
    {
     "name": "stdout",
     "output_type": "stream",
     "text": [
      "('name', 'Zwiii')\n",
      "('age', 19)\n",
      "('mark', 88)\n",
      "('address', 'baneshwor -> tokha')\n"
     ]
    }
   ],
   "source": [
    "for i in student.items():\n",
    "    print(i)"
   ]
  },
  {
   "cell_type": "markdown",
   "id": "cbd7a3e8",
   "metadata": {},
   "source": [
    "yo kina bhako ho bhanne i is expecting one value but gets two values instead\n",
    "so it 'packs' the values in a tuple."
   ]
  },
  {
   "cell_type": "code",
   "execution_count": 55,
   "id": "a18bd782",
   "metadata": {},
   "outputs": [
    {
     "name": "stdout",
     "output_type": "stream",
     "text": [
      "name Zwiii\n",
      "age 19\n",
      "mark 88\n",
      "address baneshwor -> tokha\n"
     ]
    }
   ],
   "source": [
    "for i,j in student.items():\n",
    "    print(i,j)"
   ]
  },
  {
   "cell_type": "markdown",
   "id": "3928bebc",
   "metadata": {},
   "source": [
    "#UNPACKING"
   ]
  },
  {
   "cell_type": "code",
   "execution_count": 56,
   "id": "fa038962",
   "metadata": {},
   "outputs": [],
   "source": [
    "student = {\n",
    "    'name': {\n",
    "        'name1':'ktm',\n",
    "        'name2':'brt',\n",
    "        'name3':'pkr'\n",
    "    },\n",
    "    'country':'Nepal'\n",
    "}"
   ]
  },
  {
   "cell_type": "code",
   "execution_count": 57,
   "id": "5dd28305",
   "metadata": {},
   "outputs": [
    {
     "data": {
      "text/plain": [
       "{'name1': 'ktm', 'name2': 'brt', 'name3': 'pkr'}"
      ]
     },
     "execution_count": 57,
     "metadata": {},
     "output_type": "execute_result"
    }
   ],
   "source": [
    "student['name']"
   ]
  },
  {
   "cell_type": "code",
   "execution_count": 59,
   "id": "032e7220",
   "metadata": {},
   "outputs": [
    {
     "data": {
      "text/plain": [
       "'ktm'"
      ]
     },
     "execution_count": 59,
     "metadata": {},
     "output_type": "execute_result"
    }
   ],
   "source": [
    "student['name']['name1']"
   ]
  },
  {
   "cell_type": "code",
   "execution_count": 61,
   "id": "9dfc859c",
   "metadata": {},
   "outputs": [
    {
     "data": {
      "text/plain": [
       "'k'"
      ]
     },
     "execution_count": 61,
     "metadata": {},
     "output_type": "execute_result"
    }
   ],
   "source": [
    "student['name']['name1'][0]"
   ]
  },
  {
   "cell_type": "code",
   "execution_count": null,
   "id": "984b6c49",
   "metadata": {},
   "outputs": [],
   "source": []
  }
 ],
 "metadata": {
  "kernelspec": {
   "display_name": "Python 3 (ipykernel)",
   "language": "python",
   "name": "python3"
  },
  "language_info": {
   "codemirror_mode": {
    "name": "ipython",
    "version": 3
   },
   "file_extension": ".py",
   "mimetype": "text/x-python",
   "name": "python",
   "nbconvert_exporter": "python",
   "pygments_lexer": "ipython3",
   "version": "3.11.5"
  }
 },
 "nbformat": 4,
 "nbformat_minor": 5
}
