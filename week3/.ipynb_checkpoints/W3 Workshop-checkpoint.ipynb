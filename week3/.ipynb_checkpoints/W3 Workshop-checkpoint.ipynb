{
 "cells": [
  {
   "cell_type": "markdown",
   "id": "3a273f1b",
   "metadata": {},
   "source": [
    "## Week 3 Workshop"
   ]
  },
  {
   "cell_type": "code",
   "execution_count": 5,
   "id": "eb913a20",
   "metadata": {},
   "outputs": [
    {
     "name": "stdout",
     "output_type": "stream",
     "text": [
      "Sum of Odd: 9\n",
      "Sum of Even: 12\n"
     ]
    }
   ],
   "source": [
    "value = [1,2,3,4,5,6]\n",
    "sumOfOdd = 0\n",
    "sumOfEven = 0\n",
    "\n",
    "for i in value:\n",
    "    if i % 2 == 0:\n",
    "        sumOfEven += i\n",
    "    else:\n",
    "        sumOfOdd += i\n",
    "\n",
    "print(\"Sum of Odd:\",sumOfOdd)\n",
    "print(\"Sum of Even:\", sumOfEven)\n",
    "        "
   ]
  },
  {
   "cell_type": "code",
   "execution_count": null,
   "id": "d0900209",
   "metadata": {},
   "outputs": [],
   "source": []
  }
 ],
 "metadata": {
  "kernelspec": {
   "display_name": "Python 3 (ipykernel)",
   "language": "python",
   "name": "python3"
  },
  "language_info": {
   "codemirror_mode": {
    "name": "ipython",
    "version": 3
   },
   "file_extension": ".py",
   "mimetype": "text/x-python",
   "name": "python",
   "nbconvert_exporter": "python",
   "pygments_lexer": "ipython3",
   "version": "3.11.5"
  }
 },
 "nbformat": 4,
 "nbformat_minor": 5
}
