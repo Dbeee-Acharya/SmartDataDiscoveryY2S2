{
 "cells": [
  {
   "cell_type": "markdown",
   "id": "a46ae8e7",
   "metadata": {},
   "source": [
    "## Week 3 Workshop"
   ]
  },
  {
   "cell_type": "code",
   "execution_count": 14,
   "id": "be2d578b",
   "metadata": {},
   "outputs": [
    {
     "name": "stdout",
     "output_type": "stream",
     "text": [
      "Sum of Odd: 9\n",
      "Sum of Even: 12\n",
      "Number of odd:  3\n"
     ]
    }
   ],
   "source": [
    "value = [1,2,3,4,5,6]\n",
    "sumOfOdd = 0\n",
    "sumOfEven = 0\n",
    "numberOfOdd = 0\n",
    "\n",
    "for i in value:\n",
    "    if i % 2 == 0:\n",
    "        sumOfEven += i\n",
    "    else:\n",
    "        sumOfOdd += i\n",
    "        numberOfOdd += 1\n",
    "\n",
    "print(\"Sum of Odd:\",sumOfOdd)\n",
    "print(\"Sum of Even:\", sumOfEven)\n",
    "print(\"Number of odd:\", numberOfOdd)\n",
    "        "
   ]
  },
  {
   "cell_type": "code",
   "execution_count": 7,
   "id": "3ad9df51",
   "metadata": {},
   "outputs": [
    {
     "name": "stdout",
     "output_type": "stream",
     "text": [
      "Max: 6\n",
      "Min: 1\n",
      "6\n",
      "1\n"
     ]
    }
   ],
   "source": [
    "value = [1,2,3,4,5,6]\n",
    "maxNumber = value[0]\n",
    "minNumber = value [0]\n",
    "\n",
    "for i in value:\n",
    "    if i > maxNumber:\n",
    "        maxNumber = i\n",
    "    \n",
    "    if i < minNumber:\n",
    "        minNumber = i\n",
    "\n",
    "print(\"Max:\", maxNumber)\n",
    "print(\"Min:\", minNumber)\n",
    "print(max(value))\n",
    "print(min(value))"
   ]
  },
  {
   "cell_type": "code",
   "execution_count": 13,
   "id": "e802289a",
   "metadata": {},
   "outputs": [
    {
     "name": "stdout",
     "output_type": "stream",
     "text": [
      "Number of fibonacci series to show: 10\n",
      "1 1 2 3 5 8 13 21 34 55 "
     ]
    }
   ],
   "source": [
    "value = [1,1]\n",
    "n = int(input(\"Number of fibonacci series to show: \"))\n",
    "for i in range(0,n):\n",
    "    print(value[i], end=\" \")\n",
    "    value.append(value[i] + value[i+1])\n",
    "    "
   ]
  },
  {
   "cell_type": "code",
   "execution_count": 1,
   "id": "fbc55556",
   "metadata": {},
   "outputs": [
    {
     "name": "stdout",
     "output_type": "stream",
     "text": [
      "[1, 2, 3, 4, 5]\n"
     ]
    }
   ],
   "source": [
    "value = [1,1,2,3,4,5]\n",
    "uniqueList = list(set(value))\n",
    "print(uniqueList)"
   ]
  },
  {
   "cell_type": "code",
   "execution_count": 24,
   "id": "feac6076",
   "metadata": {},
   "outputs": [
    {
     "name": "stdout",
     "output_type": "stream",
     "text": [
      "[5, 4, 3, 2, 1]\n",
      "[5, 4, 3, 2, 1]\n"
     ]
    }
   ],
   "source": [
    "value = [1,2,3,4,5]\n",
    "valueReversed = []\n",
    "\n",
    "for i in range(len(value)-1,-1,-1):\n",
    "    valueReversed.append(value[i])\n",
    "\n",
    "print(valueReversed)\n",
    "value.reverse()\n",
    "print(value)"
   ]
  },
  {
   "cell_type": "code",
   "execution_count": 37,
   "id": "d6148b9c",
   "metadata": {},
   "outputs": [
    {
     "name": "stdout",
     "output_type": "stream",
     "text": [
      "6 12 18 24 \n",
      "[6, 12, 18, 24]\n"
     ]
    }
   ],
   "source": [
    "a = [2, 3, 6, 8, 9, 12, 15, 18, 24, 22, 33, 112]\n",
    "b = []\n",
    "\n",
    "for i in a:\n",
    "    if i % 2 == 0 and i % 3 == 0:\n",
    "        print(i, end=\" \")\n",
    "        b.append(i)\n",
    "print()       \n",
    "print(b)"
   ]
  },
  {
   "cell_type": "code",
   "execution_count": 39,
   "id": "26a702fe",
   "metadata": {},
   "outputs": [
    {
     "name": "stdout",
     "output_type": "stream",
     "text": [
      "['a', 1, 'b', 2, 'c', 3]\n"
     ]
    }
   ],
   "source": [
    "a = [\"a\",\"b\",\"c\"]\n",
    "b = [1,2,3]\n",
    "c = []\n",
    "\n",
    "for i in range (len(a)):\n",
    "    c.append(a[i])\n",
    "    c.append(b[i])\n",
    "\n",
    "print(c)"
   ]
  },
  {
   "cell_type": "code",
   "execution_count": 40,
   "id": "50889f96",
   "metadata": {},
   "outputs": [
    {
     "name": "stdout",
     "output_type": "stream",
     "text": [
      "[8, 8, 8, 8, 8, 8, 8]\n"
     ]
    }
   ],
   "source": [
    "a = [1,2,3,4,5,6,7]\n",
    "b = [7,6,5,4,3,2,1]\n",
    "c = []\n",
    "\n",
    "for i in range(len(a)):\n",
    "    c.append((a[i] + b[i]))\n",
    "    \n",
    "print(c)"
   ]
  },
  {
   "cell_type": "code",
   "execution_count": 35,
   "id": "80edbe49",
   "metadata": {},
   "outputs": [
    {
     "name": "stdout",
     "output_type": "stream",
     "text": [
      "Sum of Diagonal: 12\n",
      "Max: 8\n",
      "Min: 1\n"
     ]
    }
   ],
   "source": [
    "a = [[2,3,4],[1,5,6],[5,8,5]]\n",
    "counter = 0\n",
    "sumOfDiagonal = 0;\n",
    "maxValue = max(a[0])\n",
    "minValue = min(a[0])\n",
    "\n",
    "for i in a:\n",
    "    if max(a[counter]) > maxValue:\n",
    "        maxValue = max(a[counter])\n",
    "    \n",
    "    if min(a[counter]) < minValue:\n",
    "        minValue = min(a[counter])\n",
    "        \n",
    "    sumOfDiagonal += i[counter]\n",
    "    counter += 1\n",
    "\n",
    "# aba i, j garera iterate garne, ani i greater than j bhayo bhanen above diagonal\n",
    "# i smaller than j bhayo bhanne below diagonal\n",
    "    \n",
    "print(\"Sum of Diagonal:\",sumOfDiagonal)\n",
    "print(\"Max:\",maxValue)\n",
    "print(\"Min:\",minValue)"
   ]
  },
  {
   "cell_type": "code",
   "execution_count": null,
   "id": "bfda0766",
   "metadata": {},
   "outputs": [],
   "source": []
  }
 ],
 "metadata": {
  "kernelspec": {
   "display_name": "Python 3 (ipykernel)",
   "language": "python",
   "name": "python3"
  },
  "language_info": {
   "codemirror_mode": {
    "name": "ipython",
    "version": 3
   },
   "file_extension": ".py",
   "mimetype": "text/x-python",
   "name": "python",
   "nbconvert_exporter": "python",
   "pygments_lexer": "ipython3",
   "version": "3.11.5"
  }
 },
 "nbformat": 4,
 "nbformat_minor": 5
}
