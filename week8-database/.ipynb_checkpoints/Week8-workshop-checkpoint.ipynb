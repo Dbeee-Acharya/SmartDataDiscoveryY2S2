{
 "cells": [
  {
   "cell_type": "code",
   "execution_count": 1,
   "id": "8d125cee",
   "metadata": {},
   "outputs": [],
   "source": [
    "import mysql.connector"
   ]
  },
  {
   "cell_type": "code",
   "execution_count": 4,
   "id": "ae3545f8",
   "metadata": {},
   "outputs": [
    {
     "name": "stdout",
     "output_type": "stream",
     "text": [
      "Connected\n"
     ]
    }
   ],
   "source": [
    "def connection_check():\n",
    "    try:\n",
    "        mydb = mysql.connector.connect(host='localhost',user='root',password='')\n",
    "        \n",
    "        if mydb:\n",
    "            print(\"Connected\")\n",
    "        else:\n",
    "            print(\"Connection Issue\")\n",
    "    except Exception as ex:\n",
    "        print(ex)\n",
    "\n",
    "connection_check()"
   ]
  },
  {
   "cell_type": "code",
   "execution_count": 5,
   "id": "38fcd1d8",
   "metadata": {},
   "outputs": [
    {
     "name": "stdout",
     "output_type": "stream",
     "text": [
      "Connected\n"
     ]
    }
   ],
   "source": [
    "def create_db():\n",
    "    try:\n",
    "        mydb = mysql.connector.connect(host='localhost',user='root',password='')\n",
    "        \n",
    "        if mydb:\n",
    "            print(\"Connected\")\n",
    "            mycursor = mydb.cursor()\n",
    "            mycursor.execute(\"CREATE DATABASE ws_data\")\n",
    "        else:\n",
    "            print(\"Connection Issue\")\n",
    "    except Exception as ex:\n",
    "        print(ex)\n",
    "\n",
    "create_db()"
   ]
  },
  {
   "cell_type": "code",
   "execution_count": 6,
   "id": "237ded5c",
   "metadata": {},
   "outputs": [
    {
     "name": "stdout",
     "output_type": "stream",
     "text": [
      "table created\n"
     ]
    }
   ],
   "source": [
    "def create_table():\n",
    "    try:\n",
    "        mydb = mysql.connector.connect(host='localhost',user='root',password='',database='ws_data')\n",
    "        \n",
    "        if mydb:\n",
    "            \n",
    "            mycursor = mydb.cursor()\n",
    "            mycursor.execute(\"CREATE TABLE p_info(name varchar(50), age int, address varchar(50))\")\n",
    "            print(\"table created\")\n",
    "            \n",
    "            mydb.commit()\n",
    "        else:\n",
    "            print(\"Connection Issue\")\n",
    "    except Exception as ex:\n",
    "        print(ex)\n",
    "        \n",
    "create_table()"
   ]
  },
  {
   "cell_type": "code",
   "execution_count": 12,
   "id": "8cf0961e",
   "metadata": {},
   "outputs": [
    {
     "name": "stdout",
     "output_type": "stream",
     "text": [
      "data inserted\n"
     ]
    }
   ],
   "source": [
    "def insert_data():\n",
    "    try:\n",
    "        mydb = mysql.connector.connect(host='localhost',user='root',password='',database='ws_data')\n",
    "        \n",
    "        if mydb:\n",
    "            \n",
    "            mycursor = mydb.cursor()\n",
    "            mycursor.execute(\"insert into p_info values('shyam',21,'brt')\")\n",
    "            print(\"data inserted\")\n",
    "            \n",
    "            mydb.commit()\n",
    "        else:\n",
    "            print(\"Connection Issue\")\n",
    "    except Exception as ex:\n",
    "        print(ex)\n",
    "        \n",
    "insert_data()"
   ]
  },
  {
   "cell_type": "code",
   "execution_count": 13,
   "id": "b9ef3e0a",
   "metadata": {},
   "outputs": [
    {
     "name": "stdout",
     "output_type": "stream",
     "text": [
      "data inserted\n"
     ]
    }
   ],
   "source": [
    "def insert_data_many():\n",
    "    try:\n",
    "        mydb = mysql.connector.connect(host='localhost',user='root',password='',database='ws_data')\n",
    "        \n",
    "        if mydb:\n",
    "            \n",
    "            mycursor = mydb.cursor()\n",
    "            mycursor.executemany(\"insert into p_info values(%s,%s,%s)\",[('ram',21,'ktm'),\n",
    "                                                                        ('shyam',19,'brt'),\n",
    "                                                                        ('sita',19,'jkp')\n",
    "                                                                       ])\n",
    "            print(\"data inserted\")\n",
    "            \n",
    "            mydb.commit()\n",
    "        else:\n",
    "            print(\"Connection Issue\")\n",
    "    except Exception as ex:\n",
    "        print(ex)\n",
    "        \n",
    "insert_data_many()"
   ]
  },
  {
   "cell_type": "code",
   "execution_count": 15,
   "id": "a9341d1e",
   "metadata": {},
   "outputs": [
    {
     "name": "stdout",
     "output_type": "stream",
     "text": [
      "('ram', 22, 'ktm')\n",
      "('ram', 22, 'ktm')\n",
      "('ram', 22, 'ktm')\n",
      "('ram', 22, 'ktm')\n",
      "('shyam', 21, 'brt')\n",
      "('ram', 21, 'ktm')\n",
      "('shyam', 19, 'brt')\n",
      "('sita', 19, 'jkp')\n"
     ]
    }
   ],
   "source": [
    "def read_data():\n",
    "    try:\n",
    "        mydb = mysql.connector.connect(host='localhost',user='root',password='',database='ws_data')\n",
    "        \n",
    "        if mydb:\n",
    "            mycursor = mydb.cursor()\n",
    "            mycursor.execute(\"SELECT * FROM p_info\")\n",
    "            \n",
    "            rows = mycursor.fetchall()\n",
    "            \n",
    "            for data in rows:\n",
    "                print(data)\n",
    "        else:\n",
    "            print(\"Connection Issue\")\n",
    "    except Exception as ex:\n",
    "        print(ex)\n",
    "   \n",
    "read_data()"
   ]
  },
  {
   "cell_type": "code",
   "execution_count": null,
   "id": "93158396",
   "metadata": {},
   "outputs": [],
   "source": []
  }
 ],
 "metadata": {
  "kernelspec": {
   "display_name": "Python 3 (ipykernel)",
   "language": "python",
   "name": "python3"
  },
  "language_info": {
   "codemirror_mode": {
    "name": "ipython",
    "version": 3
   },
   "file_extension": ".py",
   "mimetype": "text/x-python",
   "name": "python",
   "nbconvert_exporter": "python",
   "pygments_lexer": "ipython3",
   "version": "3.11.5"
  }
 },
 "nbformat": 4,
 "nbformat_minor": 5
}
