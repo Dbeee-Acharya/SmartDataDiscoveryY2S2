{
 "cells": [
  {
   "cell_type": "markdown",
   "id": "4a4a95ab",
   "metadata": {},
   "source": [
    "# numpy revision session"
   ]
  },
  {
   "cell_type": "code",
   "execution_count": 1,
   "id": "9b72f31a",
   "metadata": {},
   "outputs": [],
   "source": [
    "import numpy as np"
   ]
  },
  {
   "cell_type": "code",
   "execution_count": null,
   "id": "53e35f6d",
   "metadata": {},
   "outputs": [],
   "source": [
    "# numpy is module\n",
    "# np is alias\n",
    "# we can replace np with any name but np is the convention\n",
    "# numpy stands for numerical python\n",
    "# used for calculations"
   ]
  },
  {
   "cell_type": "code",
   "execution_count": 3,
   "id": "1eb90101",
   "metadata": {},
   "outputs": [
    {
     "name": "stdout",
     "output_type": "stream",
     "text": [
      "[1 2 3 4 5] <class 'numpy.ndarray'> 1\n"
     ]
    }
   ],
   "source": [
    "# create an array\n",
    "a = np.array([1,2,3,4,5])\n",
    "print(a, type(a), a.ndim)"
   ]
  },
  {
   "cell_type": "markdown",
   "id": "036c260a",
   "metadata": {},
   "source": [
    "Note: array is not a list"
   ]
  },
  {
   "cell_type": "code",
   "execution_count": 5,
   "id": "4ba4c331",
   "metadata": {},
   "outputs": [
    {
     "data": {
      "text/plain": [
       "(1, 2, 5)"
      ]
     },
     "execution_count": 5,
     "metadata": {},
     "output_type": "execute_result"
    }
   ],
   "source": [
    "# array supports indexing and slicing\n",
    "# first element always begins from zeroth index\n",
    "# last element is at -1 index\n",
    "\n",
    "a[0], a[1], a[-1]"
   ]
  },
  {
   "cell_type": "code",
   "execution_count": 6,
   "id": "b77ceb73",
   "metadata": {},
   "outputs": [
    {
     "data": {
      "text/plain": [
       "5"
      ]
     },
     "execution_count": 6,
     "metadata": {},
     "output_type": "execute_result"
    }
   ],
   "source": [
    "# finds the length\n",
    "len(a)"
   ]
  },
  {
   "cell_type": "code",
   "execution_count": 7,
   "id": "a54e43be",
   "metadata": {},
   "outputs": [
    {
     "name": "stdout",
     "output_type": "stream",
     "text": [
      "[1 2 3 4 5]\n"
     ]
    }
   ],
   "source": [
    "print(a)"
   ]
  },
  {
   "cell_type": "code",
   "execution_count": 8,
   "id": "7f4054c3",
   "metadata": {},
   "outputs": [
    {
     "name": "stdout",
     "output_type": "stream",
     "text": [
      "1\n",
      "2\n",
      "3\n",
      "4\n",
      "5\n"
     ]
    }
   ],
   "source": [
    "for i in a:\n",
    "    print(i)"
   ]
  },
  {
   "cell_type": "code",
   "execution_count": 9,
   "id": "2acef022",
   "metadata": {},
   "outputs": [
    {
     "name": "stdout",
     "output_type": "stream",
     "text": [
      "value at index 0 is 1\n",
      "value at index 1 is 2\n",
      "value at index 2 is 3\n",
      "value at index 3 is 4\n",
      "value at index 4 is 5\n"
     ]
    }
   ],
   "source": [
    "for i in range(len(a)):\n",
    "    print(f\"value at index {i} is {a[i]}\")"
   ]
  },
  {
   "cell_type": "code",
   "execution_count": 13,
   "id": "58997ebe",
   "metadata": {},
   "outputs": [
    {
     "data": {
      "text/plain": [
       "array([ 1,  2,  3,  4,  5,  6,  7,  8,  9, 10, 11, 12, 13, 14, 15, 16, 17,\n",
       "       18, 19, 20])"
      ]
     },
     "execution_count": 13,
     "metadata": {},
     "output_type": "execute_result"
    }
   ],
   "source": [
    "x = np.arange(1,21)\n",
    "x"
   ]
  },
  {
   "cell_type": "code",
   "execution_count": 14,
   "id": "da4055a4",
   "metadata": {},
   "outputs": [],
   "source": [
    "# Note:\n",
    "#     arange ra range ko kaam ustai ho\n",
    "#     arange is arange not arrange"
   ]
  },
  {
   "cell_type": "code",
   "execution_count": 15,
   "id": "bcb58bfb",
   "metadata": {},
   "outputs": [
    {
     "data": {
      "text/plain": [
       "array([[ 1,  2,  3,  4,  5,  6,  7,  8,  9, 10],\n",
       "       [11, 12, 13, 14, 15, 16, 17, 18, 19, 20],\n",
       "       [21, 22, 23, 24, 25, 26, 27, 28, 29, 30]])"
      ]
     },
     "execution_count": 15,
     "metadata": {},
     "output_type": "execute_result"
    }
   ],
   "source": [
    "x = np.arange(1,31).reshape(3,10)\n",
    "x"
   ]
  },
  {
   "cell_type": "markdown",
   "id": "89bae85c",
   "metadata": {},
   "source": [
    "note: x in this case is **not 3D array** it is a **2D Array**"
   ]
  },
  {
   "cell_type": "code",
   "execution_count": null,
   "id": "8b4bad22",
   "metadata": {},
   "outputs": [],
   "source": []
  }
 ],
 "metadata": {
  "kernelspec": {
   "display_name": "Python 3 (ipykernel)",
   "language": "python",
   "name": "python3"
  },
  "language_info": {
   "codemirror_mode": {
    "name": "ipython",
    "version": 3
   },
   "file_extension": ".py",
   "mimetype": "text/x-python",
   "name": "python",
   "nbconvert_exporter": "python",
   "pygments_lexer": "ipython3",
   "version": "3.11.5"
  }
 },
 "nbformat": 4,
 "nbformat_minor": 5
}
