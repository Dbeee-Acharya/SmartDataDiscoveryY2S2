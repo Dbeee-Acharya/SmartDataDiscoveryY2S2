{
 "cells": [
  {
   "cell_type": "markdown",
   "id": "328e4eb5",
   "metadata": {},
   "source": [
    "week 5"
   ]
  },
  {
   "cell_type": "code",
   "execution_count": 1,
   "id": "1a965d27",
   "metadata": {},
   "outputs": [],
   "source": [
    "import pandas as pd"
   ]
  },
  {
   "cell_type": "code",
   "execution_count": 2,
   "id": "2896a994",
   "metadata": {
    "scrolled": true
   },
   "outputs": [
    {
     "data": {
      "text/plain": [
       "'2.0.3'"
      ]
     },
     "execution_count": 2,
     "metadata": {},
     "output_type": "execute_result"
    }
   ],
   "source": [
    "pd.__version__"
   ]
  },
  {
   "cell_type": "code",
   "execution_count": 3,
   "id": "c859b4ec",
   "metadata": {},
   "outputs": [],
   "source": [
    "# data structure\n",
    "# Series \n",
    "# dataframe"
   ]
  },
  {
   "cell_type": "code",
   "execution_count": 6,
   "id": "c2f3d460",
   "metadata": {},
   "outputs": [
    {
     "name": "stdout",
     "output_type": "stream",
     "text": [
      "0    22\n",
      "1    33\n",
      "2    44\n",
      "3    55\n",
      "dtype: int64\n"
     ]
    }
   ],
   "source": [
    "data = [22,33,44,55]\n",
    "ds = pd.Series(data)\n",
    "print(ds)"
   ]
  },
  {
   "cell_type": "code",
   "execution_count": 7,
   "id": "b8ff6de0",
   "metadata": {},
   "outputs": [
    {
     "data": {
      "text/plain": [
       "22"
      ]
     },
     "execution_count": 7,
     "metadata": {},
     "output_type": "execute_result"
    }
   ],
   "source": [
    "ds[0]"
   ]
  },
  {
   "cell_type": "markdown",
   "id": "2516b522",
   "metadata": {},
   "source": [
    "we cannot use negative index in pandas "
   ]
  },
  {
   "cell_type": "code",
   "execution_count": 8,
   "id": "41cfea31",
   "metadata": {},
   "outputs": [
    {
     "ename": "KeyError",
     "evalue": "-1",
     "output_type": "error",
     "traceback": [
      "\u001b[1;31m---------------------------------------------------------------------------\u001b[0m",
      "\u001b[1;31mValueError\u001b[0m                                Traceback (most recent call last)",
      "File \u001b[1;32mC:\\Anaconda\\Lib\\site-packages\\pandas\\core\\indexes\\range.py:345\u001b[0m, in \u001b[0;36mRangeIndex.get_loc\u001b[1;34m(self, key)\u001b[0m\n\u001b[0;32m    344\u001b[0m \u001b[38;5;28;01mtry\u001b[39;00m:\n\u001b[1;32m--> 345\u001b[0m     \u001b[38;5;28;01mreturn\u001b[39;00m \u001b[38;5;28mself\u001b[39m\u001b[38;5;241m.\u001b[39m_range\u001b[38;5;241m.\u001b[39mindex(new_key)\n\u001b[0;32m    346\u001b[0m \u001b[38;5;28;01mexcept\u001b[39;00m \u001b[38;5;167;01mValueError\u001b[39;00m \u001b[38;5;28;01mas\u001b[39;00m err:\n",
      "\u001b[1;31mValueError\u001b[0m: -1 is not in range",
      "\nThe above exception was the direct cause of the following exception:\n",
      "\u001b[1;31mKeyError\u001b[0m                                  Traceback (most recent call last)",
      "Cell \u001b[1;32mIn[8], line 1\u001b[0m\n\u001b[1;32m----> 1\u001b[0m ds[\u001b[38;5;241m-\u001b[39m\u001b[38;5;241m1\u001b[39m]\n",
      "File \u001b[1;32mC:\\Anaconda\\Lib\\site-packages\\pandas\\core\\series.py:1007\u001b[0m, in \u001b[0;36mSeries.__getitem__\u001b[1;34m(self, key)\u001b[0m\n\u001b[0;32m   1004\u001b[0m     \u001b[38;5;28;01mreturn\u001b[39;00m \u001b[38;5;28mself\u001b[39m\u001b[38;5;241m.\u001b[39m_values[key]\n\u001b[0;32m   1006\u001b[0m \u001b[38;5;28;01melif\u001b[39;00m key_is_scalar:\n\u001b[1;32m-> 1007\u001b[0m     \u001b[38;5;28;01mreturn\u001b[39;00m \u001b[38;5;28mself\u001b[39m\u001b[38;5;241m.\u001b[39m_get_value(key)\n\u001b[0;32m   1009\u001b[0m \u001b[38;5;28;01mif\u001b[39;00m is_hashable(key):\n\u001b[0;32m   1010\u001b[0m     \u001b[38;5;66;03m# Otherwise index.get_value will raise InvalidIndexError\u001b[39;00m\n\u001b[0;32m   1011\u001b[0m     \u001b[38;5;28;01mtry\u001b[39;00m:\n\u001b[0;32m   1012\u001b[0m         \u001b[38;5;66;03m# For labels that don't resolve as scalars like tuples and frozensets\u001b[39;00m\n",
      "File \u001b[1;32mC:\\Anaconda\\Lib\\site-packages\\pandas\\core\\series.py:1116\u001b[0m, in \u001b[0;36mSeries._get_value\u001b[1;34m(self, label, takeable)\u001b[0m\n\u001b[0;32m   1113\u001b[0m     \u001b[38;5;28;01mreturn\u001b[39;00m \u001b[38;5;28mself\u001b[39m\u001b[38;5;241m.\u001b[39m_values[label]\n\u001b[0;32m   1115\u001b[0m \u001b[38;5;66;03m# Similar to Index.get_value, but we do not fall back to positional\u001b[39;00m\n\u001b[1;32m-> 1116\u001b[0m loc \u001b[38;5;241m=\u001b[39m \u001b[38;5;28mself\u001b[39m\u001b[38;5;241m.\u001b[39mindex\u001b[38;5;241m.\u001b[39mget_loc(label)\n\u001b[0;32m   1118\u001b[0m \u001b[38;5;28;01mif\u001b[39;00m is_integer(loc):\n\u001b[0;32m   1119\u001b[0m     \u001b[38;5;28;01mreturn\u001b[39;00m \u001b[38;5;28mself\u001b[39m\u001b[38;5;241m.\u001b[39m_values[loc]\n",
      "File \u001b[1;32mC:\\Anaconda\\Lib\\site-packages\\pandas\\core\\indexes\\range.py:347\u001b[0m, in \u001b[0;36mRangeIndex.get_loc\u001b[1;34m(self, key)\u001b[0m\n\u001b[0;32m    345\u001b[0m         \u001b[38;5;28;01mreturn\u001b[39;00m \u001b[38;5;28mself\u001b[39m\u001b[38;5;241m.\u001b[39m_range\u001b[38;5;241m.\u001b[39mindex(new_key)\n\u001b[0;32m    346\u001b[0m     \u001b[38;5;28;01mexcept\u001b[39;00m \u001b[38;5;167;01mValueError\u001b[39;00m \u001b[38;5;28;01mas\u001b[39;00m err:\n\u001b[1;32m--> 347\u001b[0m         \u001b[38;5;28;01mraise\u001b[39;00m \u001b[38;5;167;01mKeyError\u001b[39;00m(key) \u001b[38;5;28;01mfrom\u001b[39;00m \u001b[38;5;21;01merr\u001b[39;00m\n\u001b[0;32m    348\u001b[0m \u001b[38;5;28;01mif\u001b[39;00m \u001b[38;5;28misinstance\u001b[39m(key, Hashable):\n\u001b[0;32m    349\u001b[0m     \u001b[38;5;28;01mraise\u001b[39;00m \u001b[38;5;167;01mKeyError\u001b[39;00m(key)\n",
      "\u001b[1;31mKeyError\u001b[0m: -1"
     ]
    }
   ],
   "source": [
    "ds[-1]\n"
   ]
  },
  {
   "cell_type": "code",
   "execution_count": 9,
   "id": "e4160379",
   "metadata": {},
   "outputs": [],
   "source": [
    "data = [22,33,44,55]\n",
    "ds = pd.Series(data,index = ['ram','shyam','hari','sita'])"
   ]
  },
  {
   "cell_type": "code",
   "execution_count": 10,
   "id": "9b0a209f",
   "metadata": {},
   "outputs": [
    {
     "name": "stdout",
     "output_type": "stream",
     "text": [
      "ram      22\n",
      "shyam    33\n",
      "hari     44\n",
      "sita     55\n",
      "dtype: int64\n"
     ]
    }
   ],
   "source": [
    "print(ds)"
   ]
  },
  {
   "cell_type": "markdown",
   "id": "fcfc9ede",
   "metadata": {},
   "source": [
    "you can add your own index"
   ]
  },
  {
   "cell_type": "code",
   "execution_count": 13,
   "id": "8b247b2e",
   "metadata": {},
   "outputs": [
    {
     "name": "stdout",
     "output_type": "stream",
     "text": [
      "22\n"
     ]
    }
   ],
   "source": [
    "print(ds.ram)"
   ]
  },
  {
   "cell_type": "code",
   "execution_count": 14,
   "id": "893e7be9",
   "metadata": {},
   "outputs": [
    {
     "data": {
      "text/plain": [
       "4"
      ]
     },
     "execution_count": 14,
     "metadata": {},
     "output_type": "execute_result"
    }
   ],
   "source": [
    "len(ds)"
   ]
  },
  {
   "cell_type": "code",
   "execution_count": 15,
   "id": "56c0c823",
   "metadata": {},
   "outputs": [
    {
     "data": {
      "text/plain": [
       "22"
      ]
     },
     "execution_count": 15,
     "metadata": {},
     "output_type": "execute_result"
    }
   ],
   "source": [
    "ds[0] # yo garda sir ko ma warning ayo "
   ]
  },
  {
   "cell_type": "code",
   "execution_count": 16,
   "id": "f4065110",
   "metadata": {},
   "outputs": [
    {
     "data": {
      "text/plain": [
       "22"
      ]
     },
     "execution_count": 16,
     "metadata": {},
     "output_type": "execute_result"
    }
   ],
   "source": [
    "ds.loc['ram']"
   ]
  },
  {
   "cell_type": "code",
   "execution_count": 17,
   "id": "95c4b3a6",
   "metadata": {},
   "outputs": [
    {
     "data": {
      "text/plain": [
       "22"
      ]
     },
     "execution_count": 17,
     "metadata": {},
     "output_type": "execute_result"
    }
   ],
   "source": [
    "ds['ram']"
   ]
  },
  {
   "cell_type": "code",
   "execution_count": 20,
   "id": "f16bed56",
   "metadata": {},
   "outputs": [
    {
     "name": "stdout",
     "output_type": "stream",
     "text": [
      "{'ram': 77, 'shyam': 88, 'hari': 79}\n",
      "\n",
      "ram      77\n",
      "shyam    88\n",
      "hari     79\n",
      "dtype: int64\n"
     ]
    }
   ],
   "source": [
    "data = {'ram':77, 'shyam':88, 'hari':79}\n",
    "ds = pd.Series(data)\n",
    "print(data)\n",
    "print()\n",
    "print(ds)"
   ]
  },
  {
   "cell_type": "markdown",
   "id": "11addef2",
   "metadata": {},
   "source": [
    "when you add dictionary to Series, it automatically converts the key to indexes"
   ]
  },
  {
   "cell_type": "code",
   "execution_count": 21,
   "id": "70866754",
   "metadata": {},
   "outputs": [
    {
     "name": "stdout",
     "output_type": "stream",
     "text": [
      "ram     77\n",
      "hari    79\n",
      "dtype: int64\n"
     ]
    }
   ],
   "source": [
    "data = {'ram':77, 'shyam':88, 'hari':79}\n",
    "ds = pd.Series(data, index = ['ram', 'hari'])\n",
    "print(ds)"
   ]
  },
  {
   "cell_type": "markdown",
   "id": "558d1882",
   "metadata": {},
   "source": [
    "only turns the mentioned index to series"
   ]
  },
  {
   "cell_type": "code",
   "execution_count": 24,
   "id": "11d9f3fb",
   "metadata": {},
   "outputs": [
    {
     "data": {
      "text/plain": [
       "(array([77, 79], dtype=int64), Index(['ram', 'hari'], dtype='object'))"
      ]
     },
     "execution_count": 24,
     "metadata": {},
     "output_type": "execute_result"
    }
   ],
   "source": [
    "ds.values, ds.index"
   ]
  },
  {
   "cell_type": "code",
   "execution_count": 25,
   "id": "54971d20",
   "metadata": {},
   "outputs": [
    {
     "name": "stdout",
     "output_type": "stream",
     "text": [
      "[77 79]\n",
      "Index(['ram', 'hari'], dtype='object')\n"
     ]
    }
   ],
   "source": [
    "print(ds.values)\n",
    "print(ds.index)"
   ]
  },
  {
   "cell_type": "code",
   "execution_count": 26,
   "id": "68163149",
   "metadata": {},
   "outputs": [],
   "source": [
    "import pandas as pd"
   ]
  },
  {
   "cell_type": "code",
   "execution_count": 27,
   "id": "61e7fe94",
   "metadata": {},
   "outputs": [
    {
     "name": "stdout",
     "output_type": "stream",
     "text": [
      "ktm    10\n",
      "brt    17\n",
      "pkr    20\n",
      "dtype: int64\n",
      "\n",
      "ktm    30\n",
      "brt    27\n",
      "pkr    40\n",
      "dtype: int64\n"
     ]
    }
   ],
   "source": [
    "c1 = {'ktm':10, 'brt':17, 'pkr':20}\n",
    "c2 = {'ktm':30, 'brt':27, 'pkr':40}\n",
    "ds1 = pd.Series(c1)\n",
    "ds2 = pd.Series(c2)\n",
    "\n",
    "print(ds1)\n",
    "print()\n",
    "print(ds2)"
   ]
  },
  {
   "cell_type": "code",
   "execution_count": 28,
   "id": "932a59b4",
   "metadata": {},
   "outputs": [
    {
     "name": "stdout",
     "output_type": "stream",
     "text": [
      "ktm    40\n",
      "brt    44\n",
      "pkr    60\n",
      "dtype: int64\n"
     ]
    }
   ],
   "source": [
    "print(ds1 + ds2)"
   ]
  },
  {
   "cell_type": "code",
   "execution_count": 29,
   "id": "ddf2e625",
   "metadata": {},
   "outputs": [
    {
     "name": "stdout",
     "output_type": "stream",
     "text": [
      "ktm    10\n",
      "brt    17\n",
      "pkr    20\n",
      "dtype: int64\n",
      "\n",
      "ktm       30\n",
      "dharan    27\n",
      "pkr       40\n",
      "dtype: int64\n"
     ]
    }
   ],
   "source": [
    "c1 = {'ktm':10, 'brt':17, 'pkr':20}\n",
    "c2 = {'ktm':30, 'dharan':27, 'pkr':40}\n",
    "ds1 = pd.Series(c1)\n",
    "ds2 = pd.Series(c2)\n",
    "\n",
    "print(ds1)\n",
    "print()\n",
    "print(ds2)"
   ]
  },
  {
   "cell_type": "code",
   "execution_count": 30,
   "id": "8247226d",
   "metadata": {},
   "outputs": [
    {
     "name": "stdout",
     "output_type": "stream",
     "text": [
      "brt        NaN\n",
      "dharan     NaN\n",
      "ktm       40.0\n",
      "pkr       60.0\n",
      "dtype: float64\n"
     ]
    }
   ],
   "source": [
    "print(ds1+ds2)"
   ]
  },
  {
   "cell_type": "code",
   "execution_count": 32,
   "id": "a4c0ce44",
   "metadata": {},
   "outputs": [
    {
     "data": {
      "text/plain": [
       "brt        NaN\n",
       "dharan     NaN\n",
       "ktm       40.0\n",
       "pkr       60.0\n",
       "dtype: float64"
      ]
     },
     "execution_count": 32,
     "metadata": {},
     "output_type": "execute_result"
    }
   ],
   "source": [
    "ds1.add(ds2)"
   ]
  },
  {
   "cell_type": "code",
   "execution_count": 33,
   "id": "98886ea0",
   "metadata": {},
   "outputs": [
    {
     "data": {
      "text/plain": [
       "brt       17.0\n",
       "dharan    27.0\n",
       "ktm       40.0\n",
       "pkr       60.0\n",
       "dtype: float64"
      ]
     },
     "execution_count": 33,
     "metadata": {},
     "output_type": "execute_result"
    }
   ],
   "source": [
    "ds1.add(ds2, fill_value = 0)"
   ]
  },
  {
   "cell_type": "markdown",
   "id": "f59f1552",
   "metadata": {},
   "source": [
    "fill_value = 0 means replace any non-existant values with 0. in the above example, brt has no value in ds2 so the ds1 value of brt is added with 0"
   ]
  },
  {
   "cell_type": "code",
   "execution_count": 35,
   "id": "fac04c0e",
   "metadata": {},
   "outputs": [],
   "source": [
    "import pandas as oui"
   ]
  },
  {
   "cell_type": "code",
   "execution_count": 36,
   "id": "c1d4a17f",
   "metadata": {},
   "outputs": [
    {
     "name": "stdout",
     "output_type": "stream",
     "text": [
      "    name  age\n",
      "0    ram   22\n",
      "1  shyam   23\n",
      "2   hari   33\n",
      "3   sita   21\n"
     ]
    }
   ],
   "source": [
    "data = {\n",
    "    'name':['ram','shyam','hari','sita'],\n",
    "    'age':[22,23,33,21]\n",
    "}\n",
    "\n",
    "df = pd.DataFrame(data)\n",
    "print(df)"
   ]
  },
  {
   "cell_type": "code",
   "execution_count": 37,
   "id": "2014a254",
   "metadata": {},
   "outputs": [
    {
     "data": {
      "text/html": [
       "<div>\n",
       "<style scoped>\n",
       "    .dataframe tbody tr th:only-of-type {\n",
       "        vertical-align: middle;\n",
       "    }\n",
       "\n",
       "    .dataframe tbody tr th {\n",
       "        vertical-align: top;\n",
       "    }\n",
       "\n",
       "    .dataframe thead th {\n",
       "        text-align: right;\n",
       "    }\n",
       "</style>\n",
       "<table border=\"1\" class=\"dataframe\">\n",
       "  <thead>\n",
       "    <tr style=\"text-align: right;\">\n",
       "      <th></th>\n",
       "      <th>name</th>\n",
       "      <th>age</th>\n",
       "    </tr>\n",
       "  </thead>\n",
       "  <tbody>\n",
       "    <tr>\n",
       "      <th>0</th>\n",
       "      <td>ram</td>\n",
       "      <td>22</td>\n",
       "    </tr>\n",
       "    <tr>\n",
       "      <th>1</th>\n",
       "      <td>shyam</td>\n",
       "      <td>23</td>\n",
       "    </tr>\n",
       "    <tr>\n",
       "      <th>2</th>\n",
       "      <td>hari</td>\n",
       "      <td>33</td>\n",
       "    </tr>\n",
       "    <tr>\n",
       "      <th>3</th>\n",
       "      <td>sita</td>\n",
       "      <td>21</td>\n",
       "    </tr>\n",
       "  </tbody>\n",
       "</table>\n",
       "</div>"
      ],
      "text/plain": [
       "    name  age\n",
       "0    ram   22\n",
       "1  shyam   23\n",
       "2   hari   33\n",
       "3   sita   21"
      ]
     },
     "execution_count": 37,
     "metadata": {},
     "output_type": "execute_result"
    }
   ],
   "source": [
    "df"
   ]
  },
  {
   "cell_type": "markdown",
   "id": "47282557",
   "metadata": {},
   "source": [
    "prinr(df) nagarera df matra garda ramro dekhcha hehe"
   ]
  },
  {
   "cell_type": "code",
   "execution_count": 38,
   "id": "d74dec1c",
   "metadata": {},
   "outputs": [
    {
     "name": "stdout",
     "output_type": "stream",
     "text": [
      "    name  age address\n",
      "0    ram   22     ktm\n",
      "1  shyam   23     ktm\n",
      "2   hari   33     pkr\n",
      "3   sita   21     jkp\n",
      "\n"
     ]
    },
    {
     "data": {
      "text/html": [
       "<div>\n",
       "<style scoped>\n",
       "    .dataframe tbody tr th:only-of-type {\n",
       "        vertical-align: middle;\n",
       "    }\n",
       "\n",
       "    .dataframe tbody tr th {\n",
       "        vertical-align: top;\n",
       "    }\n",
       "\n",
       "    .dataframe thead th {\n",
       "        text-align: right;\n",
       "    }\n",
       "</style>\n",
       "<table border=\"1\" class=\"dataframe\">\n",
       "  <thead>\n",
       "    <tr style=\"text-align: right;\">\n",
       "      <th></th>\n",
       "      <th>name</th>\n",
       "      <th>age</th>\n",
       "      <th>address</th>\n",
       "    </tr>\n",
       "  </thead>\n",
       "  <tbody>\n",
       "    <tr>\n",
       "      <th>0</th>\n",
       "      <td>ram</td>\n",
       "      <td>22</td>\n",
       "      <td>ktm</td>\n",
       "    </tr>\n",
       "    <tr>\n",
       "      <th>1</th>\n",
       "      <td>shyam</td>\n",
       "      <td>23</td>\n",
       "      <td>ktm</td>\n",
       "    </tr>\n",
       "    <tr>\n",
       "      <th>2</th>\n",
       "      <td>hari</td>\n",
       "      <td>33</td>\n",
       "      <td>pkr</td>\n",
       "    </tr>\n",
       "    <tr>\n",
       "      <th>3</th>\n",
       "      <td>sita</td>\n",
       "      <td>21</td>\n",
       "      <td>jkp</td>\n",
       "    </tr>\n",
       "  </tbody>\n",
       "</table>\n",
       "</div>"
      ],
      "text/plain": [
       "    name  age address\n",
       "0    ram   22     ktm\n",
       "1  shyam   23     ktm\n",
       "2   hari   33     pkr\n",
       "3   sita   21     jkp"
      ]
     },
     "execution_count": 38,
     "metadata": {},
     "output_type": "execute_result"
    }
   ],
   "source": [
    "data = {\n",
    "    'name':['ram','shyam','hari','sita'],\n",
    "    'age':[22,23,33,21],\n",
    "    'address':['ktm','ktm','pkr','jkp']\n",
    "}\n",
    "\n",
    "df = pd.DataFrame(data)\n",
    "print(df)\n",
    "print()\n",
    "df"
   ]
  },
  {
   "cell_type": "code",
   "execution_count": 39,
   "id": "361536f0",
   "metadata": {},
   "outputs": [
    {
     "data": {
      "text/plain": [
       "'C:\\\\Users\\\\dbeee\\\\Smart Data\\\\week5'"
      ]
     },
     "execution_count": 39,
     "metadata": {},
     "output_type": "execute_result"
    }
   ],
   "source": [
    "pwd"
   ]
  },
  {
   "cell_type": "code",
   "execution_count": 40,
   "id": "6d68e7aa",
   "metadata": {},
   "outputs": [],
   "source": [
    "import pandas as pd"
   ]
  },
  {
   "cell_type": "code",
   "execution_count": 44,
   "id": "9ece64c6",
   "metadata": {},
   "outputs": [
    {
     "data": {
      "text/html": [
       "<div>\n",
       "<style scoped>\n",
       "    .dataframe tbody tr th:only-of-type {\n",
       "        vertical-align: middle;\n",
       "    }\n",
       "\n",
       "    .dataframe tbody tr th {\n",
       "        vertical-align: top;\n",
       "    }\n",
       "\n",
       "    .dataframe thead th {\n",
       "        text-align: right;\n",
       "    }\n",
       "</style>\n",
       "<table border=\"1\" class=\"dataframe\">\n",
       "  <thead>\n",
       "    <tr style=\"text-align: right;\">\n",
       "      <th></th>\n",
       "      <th>name</th>\n",
       "      <th>age</th>\n",
       "      <th>address</th>\n",
       "    </tr>\n",
       "  </thead>\n",
       "  <tbody>\n",
       "    <tr>\n",
       "      <th>0</th>\n",
       "      <td>ram</td>\n",
       "      <td>22</td>\n",
       "      <td>ktm</td>\n",
       "    </tr>\n",
       "    <tr>\n",
       "      <th>1</th>\n",
       "      <td>horchata</td>\n",
       "      <td>21</td>\n",
       "      <td>brt</td>\n",
       "    </tr>\n",
       "    <tr>\n",
       "      <th>2</th>\n",
       "      <td>prussel</td>\n",
       "      <td>19</td>\n",
       "      <td>pkr</td>\n",
       "    </tr>\n",
       "    <tr>\n",
       "      <th>3</th>\n",
       "      <td>aeshashoui</td>\n",
       "      <td>21</td>\n",
       "      <td>jkp</td>\n",
       "    </tr>\n",
       "    <tr>\n",
       "      <th>4</th>\n",
       "      <td>medammousesle</td>\n",
       "      <td>20</td>\n",
       "      <td>ktm</td>\n",
       "    </tr>\n",
       "    <tr>\n",
       "      <th>5</th>\n",
       "      <td>anita</td>\n",
       "      <td>15</td>\n",
       "      <td>brt</td>\n",
       "    </tr>\n",
       "    <tr>\n",
       "      <th>6</th>\n",
       "      <td>harry</td>\n",
       "      <td>17</td>\n",
       "      <td>pkr</td>\n",
       "    </tr>\n",
       "    <tr>\n",
       "      <th>7</th>\n",
       "      <td>ram</td>\n",
       "      <td>22</td>\n",
       "      <td>ktm</td>\n",
       "    </tr>\n",
       "    <tr>\n",
       "      <th>8</th>\n",
       "      <td>horchata</td>\n",
       "      <td>21</td>\n",
       "      <td>brt</td>\n",
       "    </tr>\n",
       "    <tr>\n",
       "      <th>9</th>\n",
       "      <td>prussel</td>\n",
       "      <td>19</td>\n",
       "      <td>pkr</td>\n",
       "    </tr>\n",
       "    <tr>\n",
       "      <th>10</th>\n",
       "      <td>aeshashoui</td>\n",
       "      <td>21</td>\n",
       "      <td>jkp</td>\n",
       "    </tr>\n",
       "    <tr>\n",
       "      <th>11</th>\n",
       "      <td>medammousesle</td>\n",
       "      <td>20</td>\n",
       "      <td>ktm</td>\n",
       "    </tr>\n",
       "    <tr>\n",
       "      <th>12</th>\n",
       "      <td>anita</td>\n",
       "      <td>15</td>\n",
       "      <td>brt</td>\n",
       "    </tr>\n",
       "    <tr>\n",
       "      <th>13</th>\n",
       "      <td>harry</td>\n",
       "      <td>17</td>\n",
       "      <td>pkr</td>\n",
       "    </tr>\n",
       "  </tbody>\n",
       "</table>\n",
       "</div>"
      ],
      "text/plain": [
       "             name  age address\n",
       "0             ram   22     ktm\n",
       "1        horchata   21     brt\n",
       "2         prussel   19     pkr\n",
       "3      aeshashoui   21     jkp\n",
       "4   medammousesle   20     ktm\n",
       "5           anita   15     brt\n",
       "6           harry   17     pkr\n",
       "7             ram   22     ktm\n",
       "8        horchata   21     brt\n",
       "9         prussel   19     pkr\n",
       "10     aeshashoui   21     jkp\n",
       "11  medammousesle   20     ktm\n",
       "12          anita   15     brt\n",
       "13          harry   17     pkr"
      ]
     },
     "execution_count": 44,
     "metadata": {},
     "output_type": "execute_result"
    }
   ],
   "source": [
    "df = pd.read_csv('./info.csv')\n",
    "df"
   ]
  },
  {
   "cell_type": "code",
   "execution_count": 45,
   "id": "601cf010",
   "metadata": {},
   "outputs": [
    {
     "data": {
      "text/plain": [
       "Index(['name', 'age', 'address'], dtype='object')"
      ]
     },
     "execution_count": 45,
     "metadata": {},
     "output_type": "execute_result"
    }
   ],
   "source": [
    "df.columns"
   ]
  },
  {
   "cell_type": "code",
   "execution_count": 46,
   "id": "9523da57",
   "metadata": {},
   "outputs": [
    {
     "name": "stdout",
     "output_type": "stream",
     "text": [
      "Index(['name', 'age', 'address'], dtype='object')\n"
     ]
    }
   ],
   "source": [
    "print(df.columns)"
   ]
  },
  {
   "cell_type": "code",
   "execution_count": 47,
   "id": "85d9e4cc",
   "metadata": {},
   "outputs": [
    {
     "data": {
      "text/plain": [
       "0     22\n",
       "1     21\n",
       "2     19\n",
       "3     21\n",
       "4     20\n",
       "5     15\n",
       "6     17\n",
       "7     22\n",
       "8     21\n",
       "9     19\n",
       "10    21\n",
       "11    20\n",
       "12    15\n",
       "13    17\n",
       "Name: age, dtype: int64"
      ]
     },
     "execution_count": 47,
     "metadata": {},
     "output_type": "execute_result"
    }
   ],
   "source": [
    "df.age"
   ]
  },
  {
   "cell_type": "code",
   "execution_count": 48,
   "id": "494fab06",
   "metadata": {},
   "outputs": [
    {
     "data": {
      "text/plain": [
       "14"
      ]
     },
     "execution_count": 48,
     "metadata": {},
     "output_type": "execute_result"
    }
   ],
   "source": [
    "len(df.age)"
   ]
  },
  {
   "cell_type": "code",
   "execution_count": 49,
   "id": "346dc48f",
   "metadata": {},
   "outputs": [
    {
     "data": {
      "text/plain": [
       "0     22\n",
       "1     21\n",
       "2     19\n",
       "3     21\n",
       "4     20\n",
       "5     15\n",
       "6     17\n",
       "7     22\n",
       "8     21\n",
       "9     19\n",
       "10    21\n",
       "11    20\n",
       "12    15\n",
       "13    17\n",
       "Name: age, dtype: int64"
      ]
     },
     "execution_count": 49,
     "metadata": {},
     "output_type": "execute_result"
    }
   ],
   "source": [
    "df.age"
   ]
  },
  {
   "cell_type": "code",
   "execution_count": 50,
   "id": "2976a442",
   "metadata": {},
   "outputs": [
    {
     "data": {
      "text/plain": [
       "270"
      ]
     },
     "execution_count": 50,
     "metadata": {},
     "output_type": "execute_result"
    }
   ],
   "source": [
    "df.age.sum()"
   ]
  },
  {
   "cell_type": "code",
   "execution_count": 51,
   "id": "d065ac88",
   "metadata": {},
   "outputs": [
    {
     "data": {
      "text/plain": [
       "19.285714285714285"
      ]
     },
     "execution_count": 51,
     "metadata": {},
     "output_type": "execute_result"
    }
   ],
   "source": [
    "df.age.sum()/len(df)"
   ]
  },
  {
   "cell_type": "markdown",
   "id": "20d9f23c",
   "metadata": {},
   "source": [
    "total sum of the age column divided by the length of the dataframe"
   ]
  },
  {
   "cell_type": "code",
   "execution_count": 52,
   "id": "76e993a5",
   "metadata": {},
   "outputs": [
    {
     "data": {
      "text/html": [
       "<div>\n",
       "<style scoped>\n",
       "    .dataframe tbody tr th:only-of-type {\n",
       "        vertical-align: middle;\n",
       "    }\n",
       "\n",
       "    .dataframe tbody tr th {\n",
       "        vertical-align: top;\n",
       "    }\n",
       "\n",
       "    .dataframe thead th {\n",
       "        text-align: right;\n",
       "    }\n",
       "</style>\n",
       "<table border=\"1\" class=\"dataframe\">\n",
       "  <thead>\n",
       "    <tr style=\"text-align: right;\">\n",
       "      <th></th>\n",
       "      <th>name</th>\n",
       "      <th>age</th>\n",
       "      <th>address</th>\n",
       "    </tr>\n",
       "  </thead>\n",
       "  <tbody>\n",
       "    <tr>\n",
       "      <th>0</th>\n",
       "      <td>ram</td>\n",
       "      <td>22</td>\n",
       "      <td>ktm</td>\n",
       "    </tr>\n",
       "    <tr>\n",
       "      <th>1</th>\n",
       "      <td>horchata</td>\n",
       "      <td>21</td>\n",
       "      <td>brt</td>\n",
       "    </tr>\n",
       "    <tr>\n",
       "      <th>2</th>\n",
       "      <td>prussel</td>\n",
       "      <td>19</td>\n",
       "      <td>pkr</td>\n",
       "    </tr>\n",
       "    <tr>\n",
       "      <th>3</th>\n",
       "      <td>aeshashoui</td>\n",
       "      <td>21</td>\n",
       "      <td>jkp</td>\n",
       "    </tr>\n",
       "    <tr>\n",
       "      <th>4</th>\n",
       "      <td>medammousesle</td>\n",
       "      <td>20</td>\n",
       "      <td>ktm</td>\n",
       "    </tr>\n",
       "  </tbody>\n",
       "</table>\n",
       "</div>"
      ],
      "text/plain": [
       "            name  age address\n",
       "0            ram   22     ktm\n",
       "1       horchata   21     brt\n",
       "2        prussel   19     pkr\n",
       "3     aeshashoui   21     jkp\n",
       "4  medammousesle   20     ktm"
      ]
     },
     "execution_count": 52,
     "metadata": {},
     "output_type": "execute_result"
    }
   ],
   "source": [
    "df.head()"
   ]
  },
  {
   "cell_type": "markdown",
   "id": "71643180",
   "metadata": {},
   "source": [
    ".head shows the top five rows"
   ]
  },
  {
   "cell_type": "code",
   "execution_count": 53,
   "id": "e77834d5",
   "metadata": {},
   "outputs": [
    {
     "data": {
      "text/html": [
       "<div>\n",
       "<style scoped>\n",
       "    .dataframe tbody tr th:only-of-type {\n",
       "        vertical-align: middle;\n",
       "    }\n",
       "\n",
       "    .dataframe tbody tr th {\n",
       "        vertical-align: top;\n",
       "    }\n",
       "\n",
       "    .dataframe thead th {\n",
       "        text-align: right;\n",
       "    }\n",
       "</style>\n",
       "<table border=\"1\" class=\"dataframe\">\n",
       "  <thead>\n",
       "    <tr style=\"text-align: right;\">\n",
       "      <th></th>\n",
       "      <th>name</th>\n",
       "      <th>age</th>\n",
       "      <th>address</th>\n",
       "    </tr>\n",
       "  </thead>\n",
       "  <tbody>\n",
       "    <tr>\n",
       "      <th>9</th>\n",
       "      <td>prussel</td>\n",
       "      <td>19</td>\n",
       "      <td>pkr</td>\n",
       "    </tr>\n",
       "    <tr>\n",
       "      <th>10</th>\n",
       "      <td>aeshashoui</td>\n",
       "      <td>21</td>\n",
       "      <td>jkp</td>\n",
       "    </tr>\n",
       "    <tr>\n",
       "      <th>11</th>\n",
       "      <td>medammousesle</td>\n",
       "      <td>20</td>\n",
       "      <td>ktm</td>\n",
       "    </tr>\n",
       "    <tr>\n",
       "      <th>12</th>\n",
       "      <td>anita</td>\n",
       "      <td>15</td>\n",
       "      <td>brt</td>\n",
       "    </tr>\n",
       "    <tr>\n",
       "      <th>13</th>\n",
       "      <td>harry</td>\n",
       "      <td>17</td>\n",
       "      <td>pkr</td>\n",
       "    </tr>\n",
       "  </tbody>\n",
       "</table>\n",
       "</div>"
      ],
      "text/plain": [
       "             name  age address\n",
       "9         prussel   19     pkr\n",
       "10     aeshashoui   21     jkp\n",
       "11  medammousesle   20     ktm\n",
       "12          anita   15     brt\n",
       "13          harry   17     pkr"
      ]
     },
     "execution_count": 53,
     "metadata": {},
     "output_type": "execute_result"
    }
   ],
   "source": [
    "df.tail()"
   ]
  },
  {
   "cell_type": "markdown",
   "id": "dff6a8cb",
   "metadata": {},
   "source": [
    ".tail shows the bottom 5"
   ]
  },
  {
   "cell_type": "code",
   "execution_count": 54,
   "id": "6dc09b90",
   "metadata": {},
   "outputs": [
    {
     "data": {
      "text/html": [
       "<div>\n",
       "<style scoped>\n",
       "    .dataframe tbody tr th:only-of-type {\n",
       "        vertical-align: middle;\n",
       "    }\n",
       "\n",
       "    .dataframe tbody tr th {\n",
       "        vertical-align: top;\n",
       "    }\n",
       "\n",
       "    .dataframe thead th {\n",
       "        text-align: right;\n",
       "    }\n",
       "</style>\n",
       "<table border=\"1\" class=\"dataframe\">\n",
       "  <thead>\n",
       "    <tr style=\"text-align: right;\">\n",
       "      <th></th>\n",
       "      <th>name</th>\n",
       "      <th>age</th>\n",
       "      <th>address</th>\n",
       "    </tr>\n",
       "  </thead>\n",
       "  <tbody>\n",
       "    <tr>\n",
       "      <th>0</th>\n",
       "      <td>ram</td>\n",
       "      <td>22</td>\n",
       "      <td>ktm</td>\n",
       "    </tr>\n",
       "    <tr>\n",
       "      <th>1</th>\n",
       "      <td>horchata</td>\n",
       "      <td>21</td>\n",
       "      <td>brt</td>\n",
       "    </tr>\n",
       "    <tr>\n",
       "      <th>2</th>\n",
       "      <td>prussel</td>\n",
       "      <td>19</td>\n",
       "      <td>pkr</td>\n",
       "    </tr>\n",
       "  </tbody>\n",
       "</table>\n",
       "</div>"
      ],
      "text/plain": [
       "       name  age address\n",
       "0       ram   22     ktm\n",
       "1  horchata   21     brt\n",
       "2   prussel   19     pkr"
      ]
     },
     "execution_count": 54,
     "metadata": {},
     "output_type": "execute_result"
    }
   ],
   "source": [
    "df.head(3)"
   ]
  },
  {
   "cell_type": "markdown",
   "id": "0122ae8d",
   "metadata": {},
   "source": [
    "top 3 elements"
   ]
  },
  {
   "cell_type": "code",
   "execution_count": 55,
   "id": "372ccc74",
   "metadata": {},
   "outputs": [
    {
     "data": {
      "text/plain": [
       "0     22\n",
       "1     21\n",
       "2     19\n",
       "3     21\n",
       "4     20\n",
       "5     15\n",
       "6     17\n",
       "7     22\n",
       "8     21\n",
       "9     19\n",
       "10    21\n",
       "11    20\n",
       "12    15\n",
       "13    17\n",
       "Name: age, dtype: int64"
      ]
     },
     "execution_count": 55,
     "metadata": {},
     "output_type": "execute_result"
    }
   ],
   "source": [
    "df['age']"
   ]
  },
  {
   "cell_type": "code",
   "execution_count": 56,
   "id": "d5c32030",
   "metadata": {},
   "outputs": [
    {
     "data": {
      "text/plain": [
       "0     22\n",
       "1     21\n",
       "2     19\n",
       "3     21\n",
       "4     20\n",
       "5     15\n",
       "6     17\n",
       "7     22\n",
       "8     21\n",
       "9     19\n",
       "10    21\n",
       "11    20\n",
       "12    15\n",
       "13    17\n",
       "Name: age, dtype: int64"
      ]
     },
     "execution_count": 56,
     "metadata": {},
     "output_type": "execute_result"
    }
   ],
   "source": [
    "df.age\n"
   ]
  },
  {
   "cell_type": "code",
   "execution_count": 57,
   "id": "b1a70f90",
   "metadata": {},
   "outputs": [
    {
     "data": {
      "text/plain": [
       "0     22\n",
       "1     21\n",
       "2     19\n",
       "3     21\n",
       "4     20\n",
       "5     15\n",
       "6     17\n",
       "7     22\n",
       "8     21\n",
       "9     19\n",
       "10    21\n",
       "11    20\n",
       "12    15\n",
       "13    17\n",
       "Name: age, dtype: int64"
      ]
     },
     "execution_count": 57,
     "metadata": {},
     "output_type": "execute_result"
    }
   ],
   "source": [
    "df.age"
   ]
  },
  {
   "cell_type": "code",
   "execution_count": 58,
   "id": "aca3356c",
   "metadata": {},
   "outputs": [
    {
     "data": {
      "text/plain": [
       "0     22\n",
       "1     21\n",
       "2     19\n",
       "3     21\n",
       "4     20\n",
       "5     15\n",
       "6     17\n",
       "7     22\n",
       "8     21\n",
       "9     19\n",
       "10    21\n",
       "11    20\n",
       "12    15\n",
       "13    17\n",
       "Name: age, dtype: int64"
      ]
     },
     "execution_count": 58,
     "metadata": {},
     "output_type": "execute_result"
    }
   ],
   "source": [
    "df['age']"
   ]
  },
  {
   "cell_type": "code",
   "execution_count": 59,
   "id": "718312d3",
   "metadata": {},
   "outputs": [
    {
     "ename": "SyntaxError",
     "evalue": "invalid syntax (3642483564.py, line 1)",
     "output_type": "error",
     "traceback": [
      "\u001b[1;36m  Cell \u001b[1;32mIn[59], line 1\u001b[1;36m\u001b[0m\n\u001b[1;33m    df.age of\u001b[0m\n\u001b[1;37m           ^\u001b[0m\n\u001b[1;31mSyntaxError\u001b[0m\u001b[1;31m:\u001b[0m invalid syntax\n"
     ]
    }
   ],
   "source": [
    "df.age of"
   ]
  },
  {
   "cell_type": "code",
   "execution_count": 63,
   "id": "49922d91",
   "metadata": {},
   "outputs": [
    {
     "data": {
      "text/html": [
       "<div>\n",
       "<style scoped>\n",
       "    .dataframe tbody tr th:only-of-type {\n",
       "        vertical-align: middle;\n",
       "    }\n",
       "\n",
       "    .dataframe tbody tr th {\n",
       "        vertical-align: top;\n",
       "    }\n",
       "\n",
       "    .dataframe thead th {\n",
       "        text-align: right;\n",
       "    }\n",
       "</style>\n",
       "<table border=\"1\" class=\"dataframe\">\n",
       "  <thead>\n",
       "    <tr style=\"text-align: right;\">\n",
       "      <th></th>\n",
       "      <th>name</th>\n",
       "      <th>age of</th>\n",
       "      <th>address</th>\n",
       "    </tr>\n",
       "  </thead>\n",
       "  <tbody>\n",
       "    <tr>\n",
       "      <th>0</th>\n",
       "      <td>ram</td>\n",
       "      <td>22</td>\n",
       "      <td>ktm</td>\n",
       "    </tr>\n",
       "    <tr>\n",
       "      <th>1</th>\n",
       "      <td>horchata</td>\n",
       "      <td>21</td>\n",
       "      <td>brt</td>\n",
       "    </tr>\n",
       "    <tr>\n",
       "      <th>2</th>\n",
       "      <td>prussel</td>\n",
       "      <td>19</td>\n",
       "      <td>pkr</td>\n",
       "    </tr>\n",
       "    <tr>\n",
       "      <th>3</th>\n",
       "      <td>aeshashoui</td>\n",
       "      <td>21</td>\n",
       "      <td>jkp</td>\n",
       "    </tr>\n",
       "    <tr>\n",
       "      <th>4</th>\n",
       "      <td>medammousesle</td>\n",
       "      <td>20</td>\n",
       "      <td>ktm</td>\n",
       "    </tr>\n",
       "    <tr>\n",
       "      <th>5</th>\n",
       "      <td>anita</td>\n",
       "      <td>15</td>\n",
       "      <td>brt</td>\n",
       "    </tr>\n",
       "    <tr>\n",
       "      <th>6</th>\n",
       "      <td>harry</td>\n",
       "      <td>17</td>\n",
       "      <td>pkr</td>\n",
       "    </tr>\n",
       "    <tr>\n",
       "      <th>7</th>\n",
       "      <td>ram</td>\n",
       "      <td>22</td>\n",
       "      <td>ktm</td>\n",
       "    </tr>\n",
       "    <tr>\n",
       "      <th>8</th>\n",
       "      <td>horchata</td>\n",
       "      <td>21</td>\n",
       "      <td>brt</td>\n",
       "    </tr>\n",
       "    <tr>\n",
       "      <th>9</th>\n",
       "      <td>prussel</td>\n",
       "      <td>19</td>\n",
       "      <td>pkr</td>\n",
       "    </tr>\n",
       "    <tr>\n",
       "      <th>10</th>\n",
       "      <td>aeshashoui</td>\n",
       "      <td>21</td>\n",
       "      <td>jkp</td>\n",
       "    </tr>\n",
       "    <tr>\n",
       "      <th>11</th>\n",
       "      <td>medammousesle</td>\n",
       "      <td>20</td>\n",
       "      <td>ktm</td>\n",
       "    </tr>\n",
       "    <tr>\n",
       "      <th>12</th>\n",
       "      <td>anita</td>\n",
       "      <td>15</td>\n",
       "      <td>brt</td>\n",
       "    </tr>\n",
       "    <tr>\n",
       "      <th>13</th>\n",
       "      <td>harry</td>\n",
       "      <td>17</td>\n",
       "      <td>pkr</td>\n",
       "    </tr>\n",
       "  </tbody>\n",
       "</table>\n",
       "</div>"
      ],
      "text/plain": [
       "             name  age of address\n",
       "0             ram      22     ktm\n",
       "1        horchata      21     brt\n",
       "2         prussel      19     pkr\n",
       "3      aeshashoui      21     jkp\n",
       "4   medammousesle      20     ktm\n",
       "5           anita      15     brt\n",
       "6           harry      17     pkr\n",
       "7             ram      22     ktm\n",
       "8        horchata      21     brt\n",
       "9         prussel      19     pkr\n",
       "10     aeshashoui      21     jkp\n",
       "11  medammousesle      20     ktm\n",
       "12          anita      15     brt\n",
       "13          harry      17     pkr"
      ]
     },
     "execution_count": 63,
     "metadata": {},
     "output_type": "execute_result"
    }
   ],
   "source": [
    "df = pd.read_csv('./info.csv')\n",
    "df"
   ]
  },
  {
   "cell_type": "code",
   "execution_count": 64,
   "id": "b21eb812",
   "metadata": {},
   "outputs": [
    {
     "ename": "SyntaxError",
     "evalue": "invalid syntax (3642483564.py, line 1)",
     "output_type": "error",
     "traceback": [
      "\u001b[1;36m  Cell \u001b[1;32mIn[64], line 1\u001b[1;36m\u001b[0m\n\u001b[1;33m    df.age of\u001b[0m\n\u001b[1;37m           ^\u001b[0m\n\u001b[1;31mSyntaxError\u001b[0m\u001b[1;31m:\u001b[0m invalid syntax\n"
     ]
    }
   ],
   "source": [
    "df.age of"
   ]
  },
  {
   "cell_type": "code",
   "execution_count": 65,
   "id": "7320a660",
   "metadata": {},
   "outputs": [
    {
     "data": {
      "text/plain": [
       "0     22\n",
       "1     21\n",
       "2     19\n",
       "3     21\n",
       "4     20\n",
       "5     15\n",
       "6     17\n",
       "7     22\n",
       "8     21\n",
       "9     19\n",
       "10    21\n",
       "11    20\n",
       "12    15\n",
       "13    17\n",
       "Name: age of, dtype: int64"
      ]
     },
     "execution_count": 65,
     "metadata": {},
     "output_type": "execute_result"
    }
   ],
   "source": [
    "df['age of']"
   ]
  },
  {
   "cell_type": "code",
   "execution_count": null,
   "id": "2c81e57d",
   "metadata": {},
   "outputs": [],
   "source": [
    "rerun the csv, in the csv file the heading has been changed ot 'age of' from 'age', so we need to use [] to use the "
   ]
  }
 ],
 "metadata": {
  "kernelspec": {
   "display_name": "Python 3 (ipykernel)",
   "language": "python",
   "name": "python3"
  },
  "language_info": {
   "codemirror_mode": {
    "name": "ipython",
    "version": 3
   },
   "file_extension": ".py",
   "mimetype": "text/x-python",
   "name": "python",
   "nbconvert_exporter": "python",
   "pygments_lexer": "ipython3",
   "version": "3.11.5"
  }
 },
 "nbformat": 4,
 "nbformat_minor": 5
}
